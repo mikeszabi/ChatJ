{
 "cells": [
  {
   "cell_type": "markdown",
   "id": "1cf62cdd",
   "metadata": {},
   "source": [
    "# How to use ChatGPT API to build a chatbot for product recommendations with embeddings"
   ]
  },
  {
   "cell_type": "markdown",
   "id": "93d6787b",
   "metadata": {},
   "source": [
    "**Are you looking to build a chatbot that can recommend products to your customers based on their unique profile?**\n",
    "\n",
    "Here's a step-by-step guide that shows you how to build a chatbot using embeddings to match a user's profile with relevant products from a company's database.\n",
    "\n",
    "Detailed step-by-step intructions for this repo in this blog post: https://norahsakal.com/blog/chatgpt-product-recommendation-embeddings\n",
    "\n",
    "### Important\n",
    "If you already have openai installed, make sure to call `pip install openai --upgrade` in your terminal to make sure you have access to version `0.27.0` (or higher) which has the newly added **gpt-3.5-turbo model**.\n",
    "\n",
    "---\n",
    "\n",
    "## Difference between ChatGPT and GPT-3 API\n",
    "ChatGPT is OpenAI's new model family designed specifically for chat-based interactions.\n",
    "\n",
    "Unlike the larger GPT-3 model, ChatGPT can consume a sequence of messages with metadata, which allows for more contextual understanding of conversations.\n",
    "\n",
    "Plus, the ChatGPT API is currently priced at only $0.002 per 1k tokens, which is 10x cheaper than the existing GPT-3.5 models.\n",
    "\n",
    "So if you're looking to build a chatbot for support requests, ChatGPT is definitely worth considering."
   ]
  },
  {
   "cell_type": "code",
   "execution_count": 1,
   "id": "9fbd800f",
   "metadata": {},
   "outputs": [],
   "source": [
    "import openai\n",
    "import pandas as pd\n",
    "from openai.embeddings_utils import get_embedding,cosine_similarity\n"
   ]
  },
  {
   "cell_type": "markdown",
   "id": "50889859",
   "metadata": {},
   "source": [
    "# 1. Add your API key"
   ]
  },
  {
   "cell_type": "code",
   "execution_count": 2,
   "id": "daea5681",
   "metadata": {},
   "outputs": [],
   "source": [
    "openai.api_type = \"azure\"\n",
    "openai.api_key = \"c4a1d51a3b974ac6b0ac45b3db2cd7b4\"\n",
    "openai.api_base = \"https://cheppy.openai.azure.com/\"\n",
    "openai.api_version = \"2023-03-15-preview\""
   ]
  },
  {
   "cell_type": "markdown",
   "id": "29973647",
   "metadata": {},
   "source": [
    "# 2. Create product data"
   ]
  },
  {
   "cell_type": "code",
   "execution_count": 3,
   "id": "fe081d9d",
   "metadata": {},
   "outputs": [],
   "source": [
    "\n",
    "product_data = [{\n",
    "    \"prod_id\": 1,\n",
    "    \"prod\": \"moisturizer\",\n",
    "    \"brand\":\"Aveeno\",\n",
    "    \"description\": \"for dry skin\"\n",
    "},\n",
    "{\n",
    "    \"prod_id\": 2,\n",
    "    \"prod\": \"foundation\",\n",
    "    \"brand\":\"Maybelline\",\n",
    "    \"description\": \"medium coverage\"\n",
    "},\n",
    "{\n",
    "    \"prod_id\": 3,\n",
    "    \"prod\": \"moisturizer\",\n",
    "    \"brand\":\"CeraVe\",\n",
    "    \"description\": \"for dry skin\"\n",
    "},\n",
    "{\n",
    "    \"prod_id\": 4,\n",
    "    \"prod\": \"nail polish\",\n",
    "    \"brand\":\"OPI\",\n",
    "    \"description\": \"raspberry red\"\n",
    "},\n",
    "{\n",
    "    \"prod_id\": 5,\n",
    "    \"prod\": \"concealer\",\n",
    "    \"brand\":\"chanel\",\n",
    "    \"description\": \"medium coverage\"\n",
    "},\n",
    "{\n",
    "    \"prod_id\": 6,\n",
    "    \"prod\": \"moisturizer\",\n",
    "    \"brand\":\"Ole Henkrisen\",\n",
    "    \"description\": \"for oily skin\"\n",
    "},\n",
    "{\n",
    "    \"prod_id\": 7,\n",
    "    \"prod\": \"moisturizer\",\n",
    "    \"brand\":\"CeraVe\",\n",
    "    \"description\": \"for normal to dry skin\"\n",
    "},\n",
    "{\n",
    "    \"prod_id\": 8,\n",
    "    \"prod\": \"moisturizer\",\n",
    "    \"brand\":\"First Aid Beauty\",\n",
    "    \"description\": \"for dry skin\"\n",
    "},{\n",
    "    \"prod_id\": 9,\n",
    "    \"prod\": \"makeup sponge\",\n",
    "    \"brand\":\"Sephora\",\n",
    "    \"description\": \"super-soft, exclusive, latex-free foam\"\n",
    "}]"
   ]
  },
  {
   "cell_type": "markdown",
   "id": "8a49544d",
   "metadata": {},
   "source": [
    "# 3. Add product data to dataframe"
   ]
  },
  {
   "cell_type": "code",
   "execution_count": 4,
   "id": "f1e83181",
   "metadata": {},
   "outputs": [
    {
     "data": {
      "text/html": [
       "<div>\n",
       "<style scoped>\n",
       "    .dataframe tbody tr th:only-of-type {\n",
       "        vertical-align: middle;\n",
       "    }\n",
       "\n",
       "    .dataframe tbody tr th {\n",
       "        vertical-align: top;\n",
       "    }\n",
       "\n",
       "    .dataframe thead th {\n",
       "        text-align: right;\n",
       "    }\n",
       "</style>\n",
       "<table border=\"1\" class=\"dataframe\">\n",
       "  <thead>\n",
       "    <tr style=\"text-align: right;\">\n",
       "      <th></th>\n",
       "      <th>prod_id</th>\n",
       "      <th>prod</th>\n",
       "      <th>brand</th>\n",
       "      <th>description</th>\n",
       "    </tr>\n",
       "  </thead>\n",
       "  <tbody>\n",
       "    <tr>\n",
       "      <th>0</th>\n",
       "      <td>1</td>\n",
       "      <td>moisturizer</td>\n",
       "      <td>Aveeno</td>\n",
       "      <td>for dry skin</td>\n",
       "    </tr>\n",
       "    <tr>\n",
       "      <th>1</th>\n",
       "      <td>2</td>\n",
       "      <td>foundation</td>\n",
       "      <td>Maybelline</td>\n",
       "      <td>medium coverage</td>\n",
       "    </tr>\n",
       "    <tr>\n",
       "      <th>2</th>\n",
       "      <td>3</td>\n",
       "      <td>moisturizer</td>\n",
       "      <td>CeraVe</td>\n",
       "      <td>for dry skin</td>\n",
       "    </tr>\n",
       "    <tr>\n",
       "      <th>3</th>\n",
       "      <td>4</td>\n",
       "      <td>nail polish</td>\n",
       "      <td>OPI</td>\n",
       "      <td>raspberry red</td>\n",
       "    </tr>\n",
       "    <tr>\n",
       "      <th>4</th>\n",
       "      <td>5</td>\n",
       "      <td>concealer</td>\n",
       "      <td>chanel</td>\n",
       "      <td>medium coverage</td>\n",
       "    </tr>\n",
       "    <tr>\n",
       "      <th>5</th>\n",
       "      <td>6</td>\n",
       "      <td>moisturizer</td>\n",
       "      <td>Ole Henkrisen</td>\n",
       "      <td>for oily skin</td>\n",
       "    </tr>\n",
       "    <tr>\n",
       "      <th>6</th>\n",
       "      <td>7</td>\n",
       "      <td>moisturizer</td>\n",
       "      <td>CeraVe</td>\n",
       "      <td>for normal to dry skin</td>\n",
       "    </tr>\n",
       "    <tr>\n",
       "      <th>7</th>\n",
       "      <td>8</td>\n",
       "      <td>moisturizer</td>\n",
       "      <td>First Aid Beauty</td>\n",
       "      <td>for dry skin</td>\n",
       "    </tr>\n",
       "    <tr>\n",
       "      <th>8</th>\n",
       "      <td>9</td>\n",
       "      <td>makeup sponge</td>\n",
       "      <td>Sephora</td>\n",
       "      <td>super-soft, exclusive, latex-free foam</td>\n",
       "    </tr>\n",
       "  </tbody>\n",
       "</table>\n",
       "</div>"
      ],
      "text/plain": [
       "   prod_id           prod             brand  \\\n",
       "0        1    moisturizer            Aveeno   \n",
       "1        2     foundation        Maybelline   \n",
       "2        3    moisturizer            CeraVe   \n",
       "3        4    nail polish               OPI   \n",
       "4        5      concealer            chanel   \n",
       "5        6    moisturizer     Ole Henkrisen   \n",
       "6        7    moisturizer            CeraVe   \n",
       "7        8    moisturizer  First Aid Beauty   \n",
       "8        9  makeup sponge           Sephora   \n",
       "\n",
       "                              description  \n",
       "0                            for dry skin  \n",
       "1                         medium coverage  \n",
       "2                            for dry skin  \n",
       "3                           raspberry red  \n",
       "4                         medium coverage  \n",
       "5                           for oily skin  \n",
       "6                  for normal to dry skin  \n",
       "7                            for dry skin  \n",
       "8  super-soft, exclusive, latex-free foam  "
      ]
     },
     "execution_count": 4,
     "metadata": {},
     "output_type": "execute_result"
    }
   ],
   "source": [
    "product_data_df = pd.DataFrame(product_data)\n",
    "product_data_df"
   ]
  },
  {
   "cell_type": "markdown",
   "id": "baba620b",
   "metadata": {},
   "source": [
    "# 4. Create column with combined data"
   ]
  },
  {
   "cell_type": "code",
   "execution_count": 5,
   "id": "9d7cdc5a",
   "metadata": {},
   "outputs": [
    {
     "data": {
      "text/html": [
       "<div>\n",
       "<style scoped>\n",
       "    .dataframe tbody tr th:only-of-type {\n",
       "        vertical-align: middle;\n",
       "    }\n",
       "\n",
       "    .dataframe tbody tr th {\n",
       "        vertical-align: top;\n",
       "    }\n",
       "\n",
       "    .dataframe thead th {\n",
       "        text-align: right;\n",
       "    }\n",
       "</style>\n",
       "<table border=\"1\" class=\"dataframe\">\n",
       "  <thead>\n",
       "    <tr style=\"text-align: right;\">\n",
       "      <th></th>\n",
       "      <th>prod_id</th>\n",
       "      <th>prod</th>\n",
       "      <th>brand</th>\n",
       "      <th>description</th>\n",
       "      <th>combined</th>\n",
       "    </tr>\n",
       "  </thead>\n",
       "  <tbody>\n",
       "    <tr>\n",
       "      <th>0</th>\n",
       "      <td>1</td>\n",
       "      <td>moisturizer</td>\n",
       "      <td>Aveeno</td>\n",
       "      <td>for dry skin</td>\n",
       "      <td>Aveeno, moisturizer, for dry skin</td>\n",
       "    </tr>\n",
       "    <tr>\n",
       "      <th>1</th>\n",
       "      <td>2</td>\n",
       "      <td>foundation</td>\n",
       "      <td>Maybelline</td>\n",
       "      <td>medium coverage</td>\n",
       "      <td>Maybelline, foundation, medium coverage</td>\n",
       "    </tr>\n",
       "    <tr>\n",
       "      <th>2</th>\n",
       "      <td>3</td>\n",
       "      <td>moisturizer</td>\n",
       "      <td>CeraVe</td>\n",
       "      <td>for dry skin</td>\n",
       "      <td>CeraVe, moisturizer, for dry skin</td>\n",
       "    </tr>\n",
       "    <tr>\n",
       "      <th>3</th>\n",
       "      <td>4</td>\n",
       "      <td>nail polish</td>\n",
       "      <td>OPI</td>\n",
       "      <td>raspberry red</td>\n",
       "      <td>OPI, nail polish, raspberry red</td>\n",
       "    </tr>\n",
       "    <tr>\n",
       "      <th>4</th>\n",
       "      <td>5</td>\n",
       "      <td>concealer</td>\n",
       "      <td>chanel</td>\n",
       "      <td>medium coverage</td>\n",
       "      <td>chanel, concealer, medium coverage</td>\n",
       "    </tr>\n",
       "    <tr>\n",
       "      <th>5</th>\n",
       "      <td>6</td>\n",
       "      <td>moisturizer</td>\n",
       "      <td>Ole Henkrisen</td>\n",
       "      <td>for oily skin</td>\n",
       "      <td>Ole Henkrisen, moisturizer, for oily skin</td>\n",
       "    </tr>\n",
       "    <tr>\n",
       "      <th>6</th>\n",
       "      <td>7</td>\n",
       "      <td>moisturizer</td>\n",
       "      <td>CeraVe</td>\n",
       "      <td>for normal to dry skin</td>\n",
       "      <td>CeraVe, moisturizer, for normal to dry skin</td>\n",
       "    </tr>\n",
       "    <tr>\n",
       "      <th>7</th>\n",
       "      <td>8</td>\n",
       "      <td>moisturizer</td>\n",
       "      <td>First Aid Beauty</td>\n",
       "      <td>for dry skin</td>\n",
       "      <td>First Aid Beauty, moisturizer, for dry skin</td>\n",
       "    </tr>\n",
       "    <tr>\n",
       "      <th>8</th>\n",
       "      <td>9</td>\n",
       "      <td>makeup sponge</td>\n",
       "      <td>Sephora</td>\n",
       "      <td>super-soft, exclusive, latex-free foam</td>\n",
       "      <td>Sephora, makeup sponge, super-soft, exclusive,...</td>\n",
       "    </tr>\n",
       "  </tbody>\n",
       "</table>\n",
       "</div>"
      ],
      "text/plain": [
       "   prod_id           prod             brand  \\\n",
       "0        1    moisturizer            Aveeno   \n",
       "1        2     foundation        Maybelline   \n",
       "2        3    moisturizer            CeraVe   \n",
       "3        4    nail polish               OPI   \n",
       "4        5      concealer            chanel   \n",
       "5        6    moisturizer     Ole Henkrisen   \n",
       "6        7    moisturizer            CeraVe   \n",
       "7        8    moisturizer  First Aid Beauty   \n",
       "8        9  makeup sponge           Sephora   \n",
       "\n",
       "                              description  \\\n",
       "0                            for dry skin   \n",
       "1                         medium coverage   \n",
       "2                            for dry skin   \n",
       "3                           raspberry red   \n",
       "4                         medium coverage   \n",
       "5                           for oily skin   \n",
       "6                  for normal to dry skin   \n",
       "7                            for dry skin   \n",
       "8  super-soft, exclusive, latex-free foam   \n",
       "\n",
       "                                            combined  \n",
       "0                  Aveeno, moisturizer, for dry skin  \n",
       "1            Maybelline, foundation, medium coverage  \n",
       "2                  CeraVe, moisturizer, for dry skin  \n",
       "3                    OPI, nail polish, raspberry red  \n",
       "4                 chanel, concealer, medium coverage  \n",
       "5          Ole Henkrisen, moisturizer, for oily skin  \n",
       "6        CeraVe, moisturizer, for normal to dry skin  \n",
       "7        First Aid Beauty, moisturizer, for dry skin  \n",
       "8  Sephora, makeup sponge, super-soft, exclusive,...  "
      ]
     },
     "execution_count": 5,
     "metadata": {},
     "output_type": "execute_result"
    }
   ],
   "source": [
    "product_data_df['combined'] = product_data_df.apply(lambda row: f\"{row['brand']}, {row['prod']}, {row['description']}\", axis=1)\n",
    "product_data_df"
   ]
  },
  {
   "cell_type": "markdown",
   "id": "4780c580",
   "metadata": {},
   "source": [
    "# 5. Create embeddings for combined product data"
   ]
  },
  {
   "cell_type": "code",
   "execution_count": 6,
   "id": "89a9f033",
   "metadata": {},
   "outputs": [
    {
     "data": {
      "text/html": [
       "<div>\n",
       "<style scoped>\n",
       "    .dataframe tbody tr th:only-of-type {\n",
       "        vertical-align: middle;\n",
       "    }\n",
       "\n",
       "    .dataframe tbody tr th {\n",
       "        vertical-align: top;\n",
       "    }\n",
       "\n",
       "    .dataframe thead th {\n",
       "        text-align: right;\n",
       "    }\n",
       "</style>\n",
       "<table border=\"1\" class=\"dataframe\">\n",
       "  <thead>\n",
       "    <tr style=\"text-align: right;\">\n",
       "      <th></th>\n",
       "      <th>prod_id</th>\n",
       "      <th>prod</th>\n",
       "      <th>brand</th>\n",
       "      <th>description</th>\n",
       "      <th>combined</th>\n",
       "      <th>text_embedding</th>\n",
       "    </tr>\n",
       "  </thead>\n",
       "  <tbody>\n",
       "    <tr>\n",
       "      <th>0</th>\n",
       "      <td>1</td>\n",
       "      <td>moisturizer</td>\n",
       "      <td>Aveeno</td>\n",
       "      <td>for dry skin</td>\n",
       "      <td>Aveeno, moisturizer, for dry skin</td>\n",
       "      <td>[-0.0054472219198942184, -0.009129984304308891...</td>\n",
       "    </tr>\n",
       "    <tr>\n",
       "      <th>1</th>\n",
       "      <td>2</td>\n",
       "      <td>foundation</td>\n",
       "      <td>Maybelline</td>\n",
       "      <td>medium coverage</td>\n",
       "      <td>Maybelline, foundation, medium coverage</td>\n",
       "      <td>[-0.015995968133211136, 0.002405167557299137, ...</td>\n",
       "    </tr>\n",
       "    <tr>\n",
       "      <th>2</th>\n",
       "      <td>3</td>\n",
       "      <td>moisturizer</td>\n",
       "      <td>CeraVe</td>\n",
       "      <td>for dry skin</td>\n",
       "      <td>CeraVe, moisturizer, for dry skin</td>\n",
       "      <td>[0.007487323135137558, -0.016988780349493027, ...</td>\n",
       "    </tr>\n",
       "    <tr>\n",
       "      <th>3</th>\n",
       "      <td>4</td>\n",
       "      <td>nail polish</td>\n",
       "      <td>OPI</td>\n",
       "      <td>raspberry red</td>\n",
       "      <td>OPI, nail polish, raspberry red</td>\n",
       "      <td>[-0.0005623639444820583, -0.01371096819639206,...</td>\n",
       "    </tr>\n",
       "    <tr>\n",
       "      <th>4</th>\n",
       "      <td>5</td>\n",
       "      <td>concealer</td>\n",
       "      <td>chanel</td>\n",
       "      <td>medium coverage</td>\n",
       "      <td>chanel, concealer, medium coverage</td>\n",
       "      <td>[0.00467997882515192, 0.004558207001537085, 0....</td>\n",
       "    </tr>\n",
       "    <tr>\n",
       "      <th>5</th>\n",
       "      <td>6</td>\n",
       "      <td>moisturizer</td>\n",
       "      <td>Ole Henkrisen</td>\n",
       "      <td>for oily skin</td>\n",
       "      <td>Ole Henkrisen, moisturizer, for oily skin</td>\n",
       "      <td>[-0.004895348101854324, -0.022356607019901276,...</td>\n",
       "    </tr>\n",
       "    <tr>\n",
       "      <th>6</th>\n",
       "      <td>7</td>\n",
       "      <td>moisturizer</td>\n",
       "      <td>CeraVe</td>\n",
       "      <td>for normal to dry skin</td>\n",
       "      <td>CeraVe, moisturizer, for normal to dry skin</td>\n",
       "      <td>[0.015787700191140175, -0.01325217541307211, 0...</td>\n",
       "    </tr>\n",
       "    <tr>\n",
       "      <th>7</th>\n",
       "      <td>8</td>\n",
       "      <td>moisturizer</td>\n",
       "      <td>First Aid Beauty</td>\n",
       "      <td>for dry skin</td>\n",
       "      <td>First Aid Beauty, moisturizer, for dry skin</td>\n",
       "      <td>[-0.011300002224743366, -0.007518302649259567,...</td>\n",
       "    </tr>\n",
       "    <tr>\n",
       "      <th>8</th>\n",
       "      <td>9</td>\n",
       "      <td>makeup sponge</td>\n",
       "      <td>Sephora</td>\n",
       "      <td>super-soft, exclusive, latex-free foam</td>\n",
       "      <td>Sephora, makeup sponge, super-soft, exclusive,...</td>\n",
       "      <td>[0.006278818007558584, 0.004901116248220205, 0...</td>\n",
       "    </tr>\n",
       "  </tbody>\n",
       "</table>\n",
       "</div>"
      ],
      "text/plain": [
       "   prod_id           prod             brand  \\\n",
       "0        1    moisturizer            Aveeno   \n",
       "1        2     foundation        Maybelline   \n",
       "2        3    moisturizer            CeraVe   \n",
       "3        4    nail polish               OPI   \n",
       "4        5      concealer            chanel   \n",
       "5        6    moisturizer     Ole Henkrisen   \n",
       "6        7    moisturizer            CeraVe   \n",
       "7        8    moisturizer  First Aid Beauty   \n",
       "8        9  makeup sponge           Sephora   \n",
       "\n",
       "                              description  \\\n",
       "0                            for dry skin   \n",
       "1                         medium coverage   \n",
       "2                            for dry skin   \n",
       "3                           raspberry red   \n",
       "4                         medium coverage   \n",
       "5                           for oily skin   \n",
       "6                  for normal to dry skin   \n",
       "7                            for dry skin   \n",
       "8  super-soft, exclusive, latex-free foam   \n",
       "\n",
       "                                            combined  \\\n",
       "0                  Aveeno, moisturizer, for dry skin   \n",
       "1            Maybelline, foundation, medium coverage   \n",
       "2                  CeraVe, moisturizer, for dry skin   \n",
       "3                    OPI, nail polish, raspberry red   \n",
       "4                 chanel, concealer, medium coverage   \n",
       "5          Ole Henkrisen, moisturizer, for oily skin   \n",
       "6        CeraVe, moisturizer, for normal to dry skin   \n",
       "7        First Aid Beauty, moisturizer, for dry skin   \n",
       "8  Sephora, makeup sponge, super-soft, exclusive,...   \n",
       "\n",
       "                                      text_embedding  \n",
       "0  [-0.0054472219198942184, -0.009129984304308891...  \n",
       "1  [-0.015995968133211136, 0.002405167557299137, ...  \n",
       "2  [0.007487323135137558, -0.016988780349493027, ...  \n",
       "3  [-0.0005623639444820583, -0.01371096819639206,...  \n",
       "4  [0.00467997882515192, 0.004558207001537085, 0....  \n",
       "5  [-0.004895348101854324, -0.022356607019901276,...  \n",
       "6  [0.015787700191140175, -0.01325217541307211, 0...  \n",
       "7  [-0.011300002224743366, -0.007518302649259567,...  \n",
       "8  [0.006278818007558584, 0.004901116248220205, 0...  "
      ]
     },
     "execution_count": 6,
     "metadata": {},
     "output_type": "execute_result"
    }
   ],
   "source": [
    "product_data_df['text_embedding'] = product_data_df.combined.apply(lambda x: get_embedding(x, engine='text-embedding-ada-002'))\n",
    "product_data_df"
   ]
  },
  {
   "cell_type": "markdown",
   "id": "27309722",
   "metadata": {},
   "source": [
    "# 6. Create customer profile data"
   ]
  },
  {
   "cell_type": "code",
   "execution_count": 7,
   "id": "422a6115",
   "metadata": {},
   "outputs": [],
   "source": []
  },
  {
   "cell_type": "markdown",
   "id": "6a4ce5c9",
   "metadata": {},
   "source": [
    "# 7. Add customer profile data to dataframe"
   ]
  },
  {
   "cell_type": "code",
   "execution_count": null,
   "id": "1b1637c0",
   "metadata": {},
   "outputs": [],
   "source": []
  },
  {
   "cell_type": "markdown",
   "id": "9e65df3a",
   "metadata": {},
   "source": [
    "# 8. Create combined column for customer profile"
   ]
  },
  {
   "cell_type": "code",
   "execution_count": null,
   "id": "0111bc6c",
   "metadata": {},
   "outputs": [],
   "source": [
    "\n"
   ]
  },
  {
   "cell_type": "markdown",
   "id": "acee6abf",
   "metadata": {},
   "source": [
    "# 9. Create customer profile data embeddings"
   ]
  },
  {
   "cell_type": "code",
   "execution_count": null,
   "id": "2eb912cc",
   "metadata": {},
   "outputs": [],
   "source": [
    "\n"
   ]
  },
  {
   "cell_type": "markdown",
   "id": "df3fa1a7",
   "metadata": {},
   "source": [
    "# 10. Create embeddings for input question"
   ]
  },
  {
   "cell_type": "code",
   "execution_count": 81,
   "id": "0a46ecfc",
   "metadata": {},
   "outputs": [],
   "source": [
    "customer_input = \"Hi! Can you recommend a good moisturizer for me?\""
   ]
  },
  {
   "cell_type": "code",
   "execution_count": 82,
   "id": "583cf664",
   "metadata": {},
   "outputs": [],
   "source": [
    "response = openai.Embedding.create(\n",
    "    input=customer_input,\n",
    "    engine=\"text-embedding-ada-002\"\n",
    ")\n",
    "embeddings_customer_question = response['data'][0]['embedding']"
   ]
  },
  {
   "cell_type": "markdown",
   "id": "9d121dcb",
   "metadata": {},
   "source": [
    "# 11. Get similarities for purchase history"
   ]
  },
  {
   "cell_type": "code",
   "execution_count": null,
   "id": "05669892",
   "metadata": {},
   "outputs": [],
   "source": [
    "\n"
   ]
  },
  {
   "cell_type": "markdown",
   "id": "143d025f",
   "metadata": {},
   "source": [
    "# 12. Save top 3 similarities for purchase history"
   ]
  },
  {
   "cell_type": "code",
   "execution_count": null,
   "id": "4b4e41eb",
   "metadata": {},
   "outputs": [],
   "source": []
  },
  {
   "cell_type": "markdown",
   "id": "57b0d4da",
   "metadata": {},
   "source": [
    "# 13. Get similarities for products"
   ]
  },
  {
   "cell_type": "code",
   "execution_count": 83,
   "id": "fa3d18d1",
   "metadata": {},
   "outputs": [
    {
     "data": {
      "text/html": [
       "<div>\n",
       "<style scoped>\n",
       "    .dataframe tbody tr th:only-of-type {\n",
       "        vertical-align: middle;\n",
       "    }\n",
       "\n",
       "    .dataframe tbody tr th {\n",
       "        vertical-align: top;\n",
       "    }\n",
       "\n",
       "    .dataframe thead th {\n",
       "        text-align: right;\n",
       "    }\n",
       "</style>\n",
       "<table border=\"1\" class=\"dataframe\">\n",
       "  <thead>\n",
       "    <tr style=\"text-align: right;\">\n",
       "      <th></th>\n",
       "      <th>prod_id</th>\n",
       "      <th>prod</th>\n",
       "      <th>brand</th>\n",
       "      <th>description</th>\n",
       "      <th>combined</th>\n",
       "      <th>text_embedding</th>\n",
       "      <th>search_products</th>\n",
       "    </tr>\n",
       "  </thead>\n",
       "  <tbody>\n",
       "    <tr>\n",
       "      <th>2</th>\n",
       "      <td>3</td>\n",
       "      <td>moisturizer</td>\n",
       "      <td>CeraVe</td>\n",
       "      <td>for dry skin</td>\n",
       "      <td>CeraVe, moisturizer, for dry skin</td>\n",
       "      <td>[0.007487323135137558, -0.016988780349493027, ...</td>\n",
       "      <td>0.861155</td>\n",
       "    </tr>\n",
       "    <tr>\n",
       "      <th>0</th>\n",
       "      <td>1</td>\n",
       "      <td>moisturizer</td>\n",
       "      <td>Aveeno</td>\n",
       "      <td>for dry skin</td>\n",
       "      <td>Aveeno, moisturizer, for dry skin</td>\n",
       "      <td>[-0.0054472219198942184, -0.009129984304308891...</td>\n",
       "      <td>0.861080</td>\n",
       "    </tr>\n",
       "    <tr>\n",
       "      <th>7</th>\n",
       "      <td>8</td>\n",
       "      <td>moisturizer</td>\n",
       "      <td>First Aid Beauty</td>\n",
       "      <td>for dry skin</td>\n",
       "      <td>First Aid Beauty, moisturizer, for dry skin</td>\n",
       "      <td>[-0.011300002224743366, -0.007518302649259567,...</td>\n",
       "      <td>0.855234</td>\n",
       "    </tr>\n",
       "    <tr>\n",
       "      <th>6</th>\n",
       "      <td>7</td>\n",
       "      <td>moisturizer</td>\n",
       "      <td>CeraVe</td>\n",
       "      <td>for normal to dry skin</td>\n",
       "      <td>CeraVe, moisturizer, for normal to dry skin</td>\n",
       "      <td>[0.015787700191140175, -0.01325217541307211, 0...</td>\n",
       "      <td>0.851172</td>\n",
       "    </tr>\n",
       "    <tr>\n",
       "      <th>5</th>\n",
       "      <td>6</td>\n",
       "      <td>moisturizer</td>\n",
       "      <td>Ole Henkrisen</td>\n",
       "      <td>for oily skin</td>\n",
       "      <td>Ole Henkrisen, moisturizer, for oily skin</td>\n",
       "      <td>[-0.004895348101854324, -0.022356607019901276,...</td>\n",
       "      <td>0.837502</td>\n",
       "    </tr>\n",
       "    <tr>\n",
       "      <th>4</th>\n",
       "      <td>5</td>\n",
       "      <td>concealer</td>\n",
       "      <td>chanel</td>\n",
       "      <td>medium coverage</td>\n",
       "      <td>chanel, concealer, medium coverage</td>\n",
       "      <td>[0.00467997882515192, 0.004558207001537085, 0....</td>\n",
       "      <td>0.784108</td>\n",
       "    </tr>\n",
       "    <tr>\n",
       "      <th>1</th>\n",
       "      <td>2</td>\n",
       "      <td>foundation</td>\n",
       "      <td>Maybelline</td>\n",
       "      <td>medium coverage</td>\n",
       "      <td>Maybelline, foundation, medium coverage</td>\n",
       "      <td>[-0.015995968133211136, 0.002405167557299137, ...</td>\n",
       "      <td>0.782689</td>\n",
       "    </tr>\n",
       "    <tr>\n",
       "      <th>8</th>\n",
       "      <td>9</td>\n",
       "      <td>makeup sponge</td>\n",
       "      <td>Sephora</td>\n",
       "      <td>super-soft, exclusive, latex-free foam</td>\n",
       "      <td>Sephora, makeup sponge, super-soft, exclusive,...</td>\n",
       "      <td>[0.006278818007558584, 0.004901116248220205, 0...</td>\n",
       "      <td>0.762134</td>\n",
       "    </tr>\n",
       "    <tr>\n",
       "      <th>3</th>\n",
       "      <td>4</td>\n",
       "      <td>nail polish</td>\n",
       "      <td>OPI</td>\n",
       "      <td>raspberry red</td>\n",
       "      <td>OPI, nail polish, raspberry red</td>\n",
       "      <td>[-0.0005623639444820583, -0.01371096819639206,...</td>\n",
       "      <td>0.748637</td>\n",
       "    </tr>\n",
       "  </tbody>\n",
       "</table>\n",
       "</div>"
      ],
      "text/plain": [
       "   prod_id           prod             brand  \\\n",
       "2        3    moisturizer            CeraVe   \n",
       "0        1    moisturizer            Aveeno   \n",
       "7        8    moisturizer  First Aid Beauty   \n",
       "6        7    moisturizer            CeraVe   \n",
       "5        6    moisturizer     Ole Henkrisen   \n",
       "4        5      concealer            chanel   \n",
       "1        2     foundation        Maybelline   \n",
       "8        9  makeup sponge           Sephora   \n",
       "3        4    nail polish               OPI   \n",
       "\n",
       "                              description  \\\n",
       "2                            for dry skin   \n",
       "0                            for dry skin   \n",
       "7                            for dry skin   \n",
       "6                  for normal to dry skin   \n",
       "5                           for oily skin   \n",
       "4                         medium coverage   \n",
       "1                         medium coverage   \n",
       "8  super-soft, exclusive, latex-free foam   \n",
       "3                           raspberry red   \n",
       "\n",
       "                                            combined  \\\n",
       "2                  CeraVe, moisturizer, for dry skin   \n",
       "0                  Aveeno, moisturizer, for dry skin   \n",
       "7        First Aid Beauty, moisturizer, for dry skin   \n",
       "6        CeraVe, moisturizer, for normal to dry skin   \n",
       "5          Ole Henkrisen, moisturizer, for oily skin   \n",
       "4                 chanel, concealer, medium coverage   \n",
       "1            Maybelline, foundation, medium coverage   \n",
       "8  Sephora, makeup sponge, super-soft, exclusive,...   \n",
       "3                    OPI, nail polish, raspberry red   \n",
       "\n",
       "                                      text_embedding  search_products  \n",
       "2  [0.007487323135137558, -0.016988780349493027, ...         0.861155  \n",
       "0  [-0.0054472219198942184, -0.009129984304308891...         0.861080  \n",
       "7  [-0.011300002224743366, -0.007518302649259567,...         0.855234  \n",
       "6  [0.015787700191140175, -0.01325217541307211, 0...         0.851172  \n",
       "5  [-0.004895348101854324, -0.022356607019901276,...         0.837502  \n",
       "4  [0.00467997882515192, 0.004558207001537085, 0....         0.784108  \n",
       "1  [-0.015995968133211136, 0.002405167557299137, ...         0.782689  \n",
       "8  [0.006278818007558584, 0.004901116248220205, 0...         0.762134  \n",
       "3  [-0.0005623639444820583, -0.01371096819639206,...         0.748637  "
      ]
     },
     "execution_count": 83,
     "metadata": {},
     "output_type": "execute_result"
    }
   ],
   "source": [
    "product_data_df['search_products'] = product_data_df.text_embedding.apply(lambda x: cosine_similarity(x, embeddings_customer_question))\n",
    "product_data_df = product_data_df.sort_values('search_products', ascending=False)\n",
    "product_data_df\n"
   ]
  },
  {
   "cell_type": "markdown",
   "id": "7f9fadb8",
   "metadata": {},
   "source": [
    "# 14. Save top 3 similarities for products"
   ]
  },
  {
   "cell_type": "code",
   "execution_count": null,
   "id": "68529321",
   "metadata": {},
   "outputs": [],
   "source": []
  },
  {
   "cell_type": "code",
   "execution_count": 84,
   "id": "5c822bda",
   "metadata": {},
   "outputs": [
    {
     "data": {
      "text/html": [
       "<div>\n",
       "<style scoped>\n",
       "    .dataframe tbody tr th:only-of-type {\n",
       "        vertical-align: middle;\n",
       "    }\n",
       "\n",
       "    .dataframe tbody tr th {\n",
       "        vertical-align: top;\n",
       "    }\n",
       "\n",
       "    .dataframe thead th {\n",
       "        text-align: right;\n",
       "    }\n",
       "</style>\n",
       "<table border=\"1\" class=\"dataframe\">\n",
       "  <thead>\n",
       "    <tr style=\"text-align: right;\">\n",
       "      <th></th>\n",
       "      <th>prod_id</th>\n",
       "      <th>prod</th>\n",
       "      <th>brand</th>\n",
       "      <th>description</th>\n",
       "      <th>combined</th>\n",
       "      <th>text_embedding</th>\n",
       "      <th>search_products</th>\n",
       "    </tr>\n",
       "  </thead>\n",
       "  <tbody>\n",
       "    <tr>\n",
       "      <th>2</th>\n",
       "      <td>3</td>\n",
       "      <td>moisturizer</td>\n",
       "      <td>CeraVe</td>\n",
       "      <td>for dry skin</td>\n",
       "      <td>CeraVe, moisturizer, for dry skin</td>\n",
       "      <td>[0.007487323135137558, -0.016988780349493027, ...</td>\n",
       "      <td>0.861155</td>\n",
       "    </tr>\n",
       "    <tr>\n",
       "      <th>0</th>\n",
       "      <td>1</td>\n",
       "      <td>moisturizer</td>\n",
       "      <td>Aveeno</td>\n",
       "      <td>for dry skin</td>\n",
       "      <td>Aveeno, moisturizer, for dry skin</td>\n",
       "      <td>[-0.0054472219198942184, -0.009129984304308891...</td>\n",
       "      <td>0.861080</td>\n",
       "    </tr>\n",
       "    <tr>\n",
       "      <th>7</th>\n",
       "      <td>8</td>\n",
       "      <td>moisturizer</td>\n",
       "      <td>First Aid Beauty</td>\n",
       "      <td>for dry skin</td>\n",
       "      <td>First Aid Beauty, moisturizer, for dry skin</td>\n",
       "      <td>[-0.011300002224743366, -0.007518302649259567,...</td>\n",
       "      <td>0.855234</td>\n",
       "    </tr>\n",
       "  </tbody>\n",
       "</table>\n",
       "</div>"
      ],
      "text/plain": [
       "   prod_id         prod             brand   description  \\\n",
       "2        3  moisturizer            CeraVe  for dry skin   \n",
       "0        1  moisturizer            Aveeno  for dry skin   \n",
       "7        8  moisturizer  First Aid Beauty  for dry skin   \n",
       "\n",
       "                                      combined  \\\n",
       "2            CeraVe, moisturizer, for dry skin   \n",
       "0            Aveeno, moisturizer, for dry skin   \n",
       "7  First Aid Beauty, moisturizer, for dry skin   \n",
       "\n",
       "                                      text_embedding  search_products  \n",
       "2  [0.007487323135137558, -0.016988780349493027, ...         0.861155  \n",
       "0  [-0.0054472219198942184, -0.009129984304308891...         0.861080  \n",
       "7  [-0.011300002224743366, -0.007518302649259567,...         0.855234  "
      ]
     },
     "execution_count": 84,
     "metadata": {},
     "output_type": "execute_result"
    }
   ],
   "source": [
    "top_3_products_df = product_data_df.head(3)\n",
    "top_3_products_df"
   ]
  },
  {
   "cell_type": "markdown",
   "id": "7e78b207",
   "metadata": {},
   "source": [
    "# 15. Create prompt"
   ]
  },
  {
   "cell_type": "markdown",
   "id": "3977f298",
   "metadata": {},
   "source": [
    "The system message helps set the behavior of the assistant.\n",
    "\n",
    ">From OpenAI API docs: https://platform.openai.com/docs/guides/chat/introduction\n",
    ">\n",
    ">\"gpt-3.5-turbo-0301 does not always pay strong attention to system messages. Future models will be trained to pay stronger attention to system messages.\""
   ]
  },
  {
   "cell_type": "markdown",
   "id": "9e994cad",
   "metadata": {},
   "source": [
    ">Tip 💡\n",
    ">\n",
    ">Tinker with the instructions in the prompt until you find the desired voice of your chatbot."
   ]
  },
  {
   "cell_type": "code",
   "execution_count": 85,
   "id": "e45f16fe",
   "metadata": {},
   "outputs": [],
   "source": [
    "message_objects = []\n",
    "message_objects.append({\"role\":\"system\", \"content\":\"You're a chatbot helping customers with beauty-related questions and helping them with product recommendations\"})\n"
   ]
  },
  {
   "cell_type": "code",
   "execution_count": 86,
   "id": "c1bbd9a3",
   "metadata": {},
   "outputs": [],
   "source": [
    "# Append the customer messagae\n",
    "message_objects.append({\"role\":\"user\", \"content\": customer_input})"
   ]
  },
  {
   "cell_type": "code",
   "execution_count": null,
   "id": "66b61bb7",
   "metadata": {},
   "outputs": [],
   "source": []
  },
  {
   "cell_type": "code",
   "execution_count": 87,
   "id": "886a3e07",
   "metadata": {},
   "outputs": [],
   "source": [
    "# Append prev relevant purchase\n",
    "message_objects.append({\"role\":\"user\", \"content\": f\"Please give me a detailed explanation of your recommendations\"})\n",
    "message_objects.append({\"role\":\"user\", \"content\": \"Please be friendly and talk to me like a person, don't just give me a list of recommendations\"})\n"
   ]
  },
  {
   "cell_type": "code",
   "execution_count": 88,
   "id": "2a4b0d0e",
   "metadata": {},
   "outputs": [
    {
     "data": {
      "text/plain": [
       "[{'role': 'assistant', 'content': 'CeraVe, moisturizer, for dry skin'},\n",
       " {'role': 'assistant', 'content': 'Aveeno, moisturizer, for dry skin'},\n",
       " {'role': 'assistant',\n",
       "  'content': 'First Aid Beauty, moisturizer, for dry skin'}]"
      ]
     },
     "execution_count": 88,
     "metadata": {},
     "output_type": "execute_result"
    }
   ],
   "source": [
    "# Create list of 3 products to recommend\n",
    "products_list = []\n",
    "\n",
    "for index, row in top_3_products_df.iterrows():\n",
    "    brand_dict = {'role': \"assistant\", \"content\": f\"{row['combined']}\"}\n",
    "    products_list.append(brand_dict)\n",
    "products_list"
   ]
  },
  {
   "cell_type": "code",
   "execution_count": 89,
   "id": "40fb7fbd",
   "metadata": {},
   "outputs": [
    {
     "data": {
      "text/plain": [
       "[{'role': 'system',\n",
       "  'content': \"You're a chatbot helping customers with beauty-related questions and helping them with product recommendations\"},\n",
       " {'role': 'user',\n",
       "  'content': 'Hi! Can you recommend a good moisturizer for me?'},\n",
       " {'role': 'user',\n",
       "  'content': 'Please give me a detailed explanation of your recommendations'},\n",
       " {'role': 'user',\n",
       "  'content': \"Please be friendly and talk to me like a person, don't just give me a list of recommendations\"},\n",
       " {'role': 'assistant',\n",
       "  'content': 'I found these 3 products I would recommend'},\n",
       " {'role': 'assistant', 'content': 'CeraVe, moisturizer, for dry skin'},\n",
       " {'role': 'assistant', 'content': 'Aveeno, moisturizer, for dry skin'},\n",
       " {'role': 'assistant',\n",
       "  'content': 'First Aid Beauty, moisturizer, for dry skin'},\n",
       " {'role': 'assistant',\n",
       "  'content': \"Here's my summarized recommendation of products, and why it would suit you:\"}]"
      ]
     },
     "execution_count": 89,
     "metadata": {},
     "output_type": "execute_result"
    }
   ],
   "source": [
    "# Append found products  \n",
    "message_objects.append({\"role\": \"assistant\", \"content\": f\"I found these 3 products I would recommend\"})\n",
    "message_objects.extend(products_list)\n",
    "message_objects.append({\"role\": \"assistant\", \"content\":\"Here's my summarized recommendation of products, and why it would suit you:\"})\n",
    "message_objects"
   ]
  },
  {
   "cell_type": "code",
   "execution_count": 80,
   "id": "a9c81c8b",
   "metadata": {},
   "outputs": [
    {
     "data": {
      "text/plain": [
       "[{'role': 'system',\n",
       "  'content': \"You're a chatbot helping customers with beauty-related questions and helping them with product recommendations\"},\n",
       " {'role': 'user',\n",
       "  'content': 'Hi! Can you recommend a good moisturizer for me?'},\n",
       " {'role': 'user',\n",
       "  'content': 'Please give me a detailed explanation of your recommendations'},\n",
       " {'role': 'user',\n",
       "  'content': \"Please be friendly and talk to me like a person, don't just give me a list of recommendations\"},\n",
       " {'role': 'assistant',\n",
       "  'content': 'I found these 3 products I would recommend'},\n",
       " {'role': 'assistant', 'content': 'Ole Henkrisen, moisturizer, for oily skin'},\n",
       " {'role': 'assistant', 'content': 'Aveeno, moisturizer, for dry skin'},\n",
       " {'role': 'assistant', 'content': 'CeraVe, moisturizer, for dry skin'},\n",
       " {'role': 'assistant',\n",
       "  'content': \"Here's my summarized recommendation of products, and why it would suit you:\"},\n",
       " {'role': 'assistant',\n",
       "  'content': \"For oily skin types, I'd recommend Ole Henkrisen Facial Moisturizer. It's infused with powerful ingredients that leave skin feeling balanced and hydrated without feeling greasy. This moisturizer helps refine the look of pores and leaves the skin with a vibrant, healthy glow.\\n\\nFor dry skin types, I'd highly recommend Aveeno Daily Moisturizing Lotion. This moisturizer is perfect for daily use and is formulated with natural ingredients like oatmeal to help soothe and nourish dry, sensitive skin. It's fragrance-free, non-greasy, and absorbs quickly, leaving skin looking and feeling soft and smooth.\\n\\nAnother great option for dry skin is CeraVe Facial Moisturizing Lotion. This lotion contains hyaluronic acid and ceramides to help restore the skin's natural moisture barrier, retaining hydration throughout the day. It's oil-free, non-comedogenic and fragrance-free, making it perfect for sensitive skin and those prone to breakouts.\\n\\nUltimately, the right moisturizer for you depends on your skin type, concerns, and personal preference. If you have any other questions, feel free to ask and I'd be happy to help you find the perfect moisturizer!\"}]"
      ]
     },
     "execution_count": 80,
     "metadata": {},
     "output_type": "execute_result"
    }
   ],
   "source": [
    "message_objects"
   ]
  },
  {
   "cell_type": "markdown",
   "id": "be8957f0",
   "metadata": {},
   "source": [
    "# 16. Call ChatGPT API"
   ]
  },
  {
   "cell_type": "code",
   "execution_count": 90,
   "id": "21adb294",
   "metadata": {},
   "outputs": [
    {
     "name": "stdout",
     "output_type": "stream",
     "text": [
      "I would recommend the CeraVe Daily Moisturizing Lotion for dry skin because it contains ceramides and hyaluronic acid which help to retain moisture in the skin. It is also fragrance-free and non-comedogenic, making it suitable for sensitive skin. Additionally, it is easily absorbed and does not leave a greasy residue.\n"
     ]
    }
   ],
   "source": [
    "completion = openai.ChatCompletion.create(\n",
    "  engine=\"GPT35\",\n",
    "  messages=message_objects\n",
    ")\n",
    "message_objects.append({\"role\": \"assistant\", \"content\": completion.choices[0].message['content']})\n",
    "print(completion.choices[0].message['content'])"
   ]
  },
  {
   "cell_type": "code",
   "execution_count": 92,
   "id": "aef97e73",
   "metadata": {},
   "outputs": [
    {
     "name": "stdout",
     "output_type": "stream",
     "text": [
      "For oily skin, I would recommend the Ole Henriksen Counter Balance Oil Control Hydrator. It is specifically formulated for oily skin and contains salicylic acid, niacinamide and glycerin which helps control oil production and hydrates without clogging pores. It also helps to reduce the appearance of pores, leaving your skin nourished and matte without feeling tight or dry. Additionally, it is vegan and cruelty-free.\n"
     ]
    }
   ],
   "source": [
    "# question = \"I have oily skin\"\n",
    "# message_objects.append({\"role\": \"user\", \"content\": question})\n",
    "# response = openai.Embedding.create(\n",
    "#     input=question,\n",
    "#     engine=\"text-embedding-ada-002\"\n",
    "# )\n",
    "# embeddings_customer_question = response['data'][0]['embedding']\n",
    "# product_data_df['search_products'] = product_data_df.text_embedding.apply(lambda x: cosine_similarity(x, embeddings_customer_question))\n",
    "# product_data_df = product_data_df.sort_values('search_products', ascending=False)\n",
    "# top_3_products_df = product_data_df.head(3)\n",
    "# products_list = []\n",
    "\n",
    "# for index, row in top_3_products_df.iterrows():\n",
    "#     brand_dict = {'role': \"assistant\", \"content\": f\"{row['combined']}\"}\n",
    "#     products_list.append(brand_dict)\n",
    "# print(products_list)\n",
    "# message_objects.append({\"role\": \"assistant\", \"content\": f\"I found these 3 products I would recommend\"})\n",
    "# message_objects.extend(products_list)\n",
    "# message_objects.append({\"role\": \"assistant\", \"content\":\"Here's my summarized recommendation of products, and why it would suit you:\"})\n",
    "# message_objects\n",
    "\n",
    "completion = openai.ChatCompletion.create(\n",
    "  engine=\"GPT35\",\n",
    "  messages=message_objects\n",
    ")\n",
    "message_objects.append({\"role\": \"assistant\", \"content\": completion.choices[0].message['content']})\n",
    "print(completion.choices[0].message['content'])\n"
   ]
  },
  {
   "cell_type": "code",
   "execution_count": 93,
   "id": "ba70b6d0",
   "metadata": {},
   "outputs": [
    {
     "data": {
      "text/plain": [
       "[{'role': 'system',\n",
       "  'content': \"You're a chatbot helping customers with beauty-related questions and helping them with product recommendations\"},\n",
       " {'role': 'user',\n",
       "  'content': 'Hi! Can you recommend a good moisturizer for me?'},\n",
       " {'role': 'user',\n",
       "  'content': 'Please give me a detailed explanation of your recommendations'},\n",
       " {'role': 'user',\n",
       "  'content': \"Please be friendly and talk to me like a person, don't just give me a list of recommendations\"},\n",
       " {'role': 'assistant',\n",
       "  'content': 'I found these 3 products I would recommend'},\n",
       " {'role': 'assistant', 'content': 'CeraVe, moisturizer, for dry skin'},\n",
       " {'role': 'assistant', 'content': 'Aveeno, moisturizer, for dry skin'},\n",
       " {'role': 'assistant',\n",
       "  'content': 'First Aid Beauty, moisturizer, for dry skin'},\n",
       " {'role': 'assistant',\n",
       "  'content': \"Here's my summarized recommendation of products, and why it would suit you:\"},\n",
       " {'role': 'assistant',\n",
       "  'content': 'I would recommend the CeraVe Daily Moisturizing Lotion for dry skin because it contains ceramides and hyaluronic acid which help to retain moisture in the skin. It is also fragrance-free and non-comedogenic, making it suitable for sensitive skin. Additionally, it is easily absorbed and does not leave a greasy residue.'},\n",
       " {'role': 'user', 'content': 'I have oily skin'},\n",
       " {'role': 'assistant',\n",
       "  'content': 'I found these 3 products I would recommend'},\n",
       " {'role': 'assistant', 'content': 'Ole Henkrisen, moisturizer, for oily skin'},\n",
       " {'role': 'assistant', 'content': 'Aveeno, moisturizer, for dry skin'},\n",
       " {'role': 'assistant', 'content': 'CeraVe, moisturizer, for dry skin'},\n",
       " {'role': 'assistant',\n",
       "  'content': \"Here's my summarized recommendation of products, and why it would suit you:\"},\n",
       " {'role': 'assistant',\n",
       "  'content': 'For oily skin, I would recommend the Ole Henriksen Counter Balance Oil Control Hydrator. It is specifically formulated for oily skin and contains salicylic acid, niacinamide and glycerin which helps control oil production and hydrates without clogging pores. It also helps to reduce the appearance of pores, leaving your skin nourished and matte without feeling tight or dry. Additionally, it is vegan and cruelty-free.'}]"
      ]
     },
     "execution_count": 93,
     "metadata": {},
     "output_type": "execute_result"
    }
   ],
   "source": [
    "message_objects\n"
   ]
  },
  {
   "cell_type": "code",
   "execution_count": null,
   "id": "16f6bf2c",
   "metadata": {},
   "outputs": [],
   "source": []
  }
 ],
 "metadata": {
  "kernelspec": {
   "display_name": "Python 3 (ipykernel)",
   "language": "python",
   "name": "python3"
  },
  "language_info": {
   "codemirror_mode": {
    "name": "ipython",
    "version": 3
   },
   "file_extension": ".py",
   "mimetype": "text/x-python",
   "name": "python",
   "nbconvert_exporter": "python",
   "pygments_lexer": "ipython3",
   "version": "3.8.16"
  }
 },
 "nbformat": 4,
 "nbformat_minor": 5
}
