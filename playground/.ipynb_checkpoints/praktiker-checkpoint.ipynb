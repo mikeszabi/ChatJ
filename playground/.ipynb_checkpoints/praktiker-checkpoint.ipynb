{
 "cells": [
  {
   "cell_type": "code",
   "execution_count": 1,
   "id": "a4a0ba4e",
   "metadata": {},
   "outputs": [
    {
     "ename": "ModuleNotFoundError",
     "evalue": "No module named 'openai'",
     "output_type": "error",
     "traceback": [
      "\u001b[0;31m---------------------------------------------------------------------------\u001b[0m",
      "\u001b[0;31mModuleNotFoundError\u001b[0m                       Traceback (most recent call last)",
      "Cell \u001b[0;32mIn[1], line 1\u001b[0m\n\u001b[0;32m----> 1\u001b[0m \u001b[38;5;28;01mimport\u001b[39;00m \u001b[38;5;21;01mopenai\u001b[39;00m\n\u001b[1;32m      2\u001b[0m \u001b[38;5;28;01mimport\u001b[39;00m \u001b[38;5;21;01mpandas\u001b[39;00m \u001b[38;5;28;01mas\u001b[39;00m \u001b[38;5;21;01mpd\u001b[39;00m\n\u001b[1;32m      3\u001b[0m \u001b[38;5;28;01mfrom\u001b[39;00m \u001b[38;5;21;01mopenai\u001b[39;00m\u001b[38;5;21;01m.\u001b[39;00m\u001b[38;5;21;01membeddings_utils\u001b[39;00m \u001b[38;5;28;01mimport\u001b[39;00m get_embedding,cosine_similarity\n",
      "\u001b[0;31mModuleNotFoundError\u001b[0m: No module named 'openai'"
     ]
    }
   ],
   "source": [
    "import openai\n",
    "import pandas as pd\n",
    "from openai.embeddings_utils import get_embedding,cosine_similarity\n",
    "import keys"
   ]
  },
  {
   "cell_type": "code",
   "execution_count": 211,
   "id": "6cdb096f",
   "metadata": {},
   "outputs": [],
   "source": [
    "import requests, uuid, json\n",
    "\n",
    "def translate(text):\n",
    "    # Add your key and endpoint\n",
    "    key = \"c3cc6068a4664a27ab85c48d39082489\"\n",
    "    endpoint = \"https://api.cognitive.microsofttranslator.com/\"\n",
    "\n",
    "    # location, also known as region.\n",
    "    # required if you're using a multi-service or regional (not global) resource. It can be found in the Azure portal on the Keys and Endpoint page.\n",
    "    location = \"westeurope\"\n",
    "\n",
    "    path = '/translate'\n",
    "    constructed_url = endpoint + path\n",
    "\n",
    "    params = {\n",
    "        'api-version': '3.0',\n",
    "        'from': 'hu',\n",
    "        'to': ['en']\n",
    "    }\n",
    "\n",
    "    headers = {\n",
    "        'Ocp-Apim-Subscription-Key': key,\n",
    "        # location required if you're using a multi-service or regional (not global) resource.\n",
    "        'Ocp-Apim-Subscription-Region': location,\n",
    "        'Content-type': 'application/json',\n",
    "        'X-ClientTraceId': str(uuid.uuid4())\n",
    "    }\n",
    "\n",
    "    # You can pass more than one object in body.\n",
    "    body = [{\n",
    "        'text': text\n",
    "    }]\n",
    "\n",
    "    request = requests.post(constructed_url, params=params, headers=headers, json=body)\n",
    "    response = request.json()\n",
    "    \n",
    "#     return json.dumps(response, sort_keys=True, ensure_ascii=False, indent=4, separators=(',', ': '))\n",
    "    return response[0][\"translations\"][0][\"text\"]"
   ]
  },
  {
   "cell_type": "code",
   "execution_count": 2,
   "id": "316a594c",
   "metadata": {},
   "outputs": [],
   "source": [
    "openai.api_type = \"azure\"\n",
    "openai.api_key = \"c4a1d51a3b974ac6b0ac45b3db2cd7b4\"\n",
    "openai.api_base = \"https://cheppy.openai.azure.com/\"\n",
    "openai.api_version = \"2023-03-15-preview\""
   ]
  },
  {
   "cell_type": "code",
   "execution_count": 111,
   "id": "b241535e",
   "metadata": {},
   "outputs": [],
   "source": [
    "product_data_df = pd.read_json(\"/media/itqs/10_TB_Hdd/Tamas/chatgpt-product-recommendation-embeddings/data/data.json\")"
   ]
  },
  {
   "cell_type": "code",
   "execution_count": 112,
   "id": "e39374c0",
   "metadata": {},
   "outputs": [],
   "source": [
    "products_available = product_data_df[product_data_df[\"Availability\"]==\"in stock\"]"
   ]
  },
  {
   "cell_type": "code",
   "execution_count": 113,
   "id": "d746fa06",
   "metadata": {},
   "outputs": [
    {
     "data": {
      "text/plain": [
       "Index(['DisplayText', 'Url', 'ImageUrl', 'PopularityScore', 'Category',\n",
       "       'Price', 'Identifier', 'Synonyms', 'Description', 'Brand', 'Attributes',\n",
       "       'UnitPrice', 'OldPrice', 'Availability', 'DiscountStart', 'DiscountEnd',\n",
       "       'Discount'],\n",
       "      dtype='object')"
      ]
     },
     "execution_count": 113,
     "metadata": {},
     "output_type": "execute_result"
    }
   ],
   "source": [
    "products_available.columns"
   ]
  },
  {
   "cell_type": "code",
   "execution_count": 84,
   "id": "3a62228f",
   "metadata": {},
   "outputs": [
    {
     "name": "stderr",
     "output_type": "stream",
     "text": [
      "/tmp/ipykernel_1307399/1444696639.py:1: SettingWithCopyWarning: \n",
      "A value is trying to be set on a copy of a slice from a DataFrame.\n",
      "Try using .loc[row_indexer,col_indexer] = value instead\n",
      "\n",
      "See the caveats in the documentation: https://pandas.pydata.org/pandas-docs/stable/user_guide/indexing.html#returning-a-view-versus-a-copy\n",
      "  products_available['Category'] = products_available['Category'].apply(lambda x: x.replace(\"/\", \" \"))\n"
     ]
    }
   ],
   "source": [
    "products_available['Category'] = products_available['Category'].apply(lambda x: x.replace(\"/\", \" \"))"
   ]
  },
  {
   "cell_type": "code",
   "execution_count": 114,
   "id": "2754bcff",
   "metadata": {},
   "outputs": [
    {
     "data": {
      "text/html": [
       "<div>\n",
       "<style scoped>\n",
       "    .dataframe tbody tr th:only-of-type {\n",
       "        vertical-align: middle;\n",
       "    }\n",
       "\n",
       "    .dataframe tbody tr th {\n",
       "        vertical-align: top;\n",
       "    }\n",
       "\n",
       "    .dataframe thead th {\n",
       "        text-align: right;\n",
       "    }\n",
       "</style>\n",
       "<table border=\"1\" class=\"dataframe\">\n",
       "  <thead>\n",
       "    <tr style=\"text-align: right;\">\n",
       "      <th></th>\n",
       "      <th>DisplayText</th>\n",
       "      <th>Url</th>\n",
       "      <th>ImageUrl</th>\n",
       "      <th>PopularityScore</th>\n",
       "      <th>Category</th>\n",
       "      <th>Price</th>\n",
       "      <th>Identifier</th>\n",
       "      <th>Synonyms</th>\n",
       "      <th>Description</th>\n",
       "      <th>Brand</th>\n",
       "      <th>Attributes</th>\n",
       "      <th>UnitPrice</th>\n",
       "      <th>OldPrice</th>\n",
       "      <th>Availability</th>\n",
       "      <th>DiscountStart</th>\n",
       "      <th>DiscountEnd</th>\n",
       "      <th>Discount</th>\n",
       "    </tr>\n",
       "  </thead>\n",
       "  <tbody>\n",
       "    <tr>\n",
       "      <th>2</th>\n",
       "      <td>SANIMIX HIDROMASSZÁZS ZUHANYKABIN 90X90X215 CM...</td>\n",
       "      <td>https://www.praktiker.hu/furdoszoba/szaniter/z...</td>\n",
       "      <td>https://webimg.praktiker.hu/_upload/images/pra...</td>\n",
       "      <td>100</td>\n",
       "      <td>Fürdőszoba/Szaniter/Zuhanykabin</td>\n",
       "      <td>219900.0</td>\n",
       "      <td>339001</td>\n",
       "      <td>None</td>\n",
       "      <td>Hidromasszázs zuhanykabin mérete: &lt;span&gt;90X90X...</td>\n",
       "      <td>Sanimix</td>\n",
       "      <td>{'Szallithato': True, 'Tartosan_alacsony_ar': ...</td>\n",
       "      <td>219.900,00 Ft / darab</td>\n",
       "      <td>NaN</td>\n",
       "      <td>in stock</td>\n",
       "      <td></td>\n",
       "      <td></td>\n",
       "      <td>NaN</td>\n",
       "    </tr>\n",
       "  </tbody>\n",
       "</table>\n",
       "</div>"
      ],
      "text/plain": [
       "                                         DisplayText  \\\n",
       "2  SANIMIX HIDROMASSZÁZS ZUHANYKABIN 90X90X215 CM...   \n",
       "\n",
       "                                                 Url  \\\n",
       "2  https://www.praktiker.hu/furdoszoba/szaniter/z...   \n",
       "\n",
       "                                            ImageUrl  PopularityScore  \\\n",
       "2  https://webimg.praktiker.hu/_upload/images/pra...              100   \n",
       "\n",
       "                          Category     Price  Identifier Synonyms  \\\n",
       "2  Fürdőszoba/Szaniter/Zuhanykabin  219900.0      339001     None   \n",
       "\n",
       "                                         Description    Brand  \\\n",
       "2  Hidromasszázs zuhanykabin mérete: <span>90X90X...  Sanimix   \n",
       "\n",
       "                                          Attributes              UnitPrice  \\\n",
       "2  {'Szallithato': True, 'Tartosan_alacsony_ar': ...  219.900,00 Ft / darab   \n",
       "\n",
       "   OldPrice Availability DiscountStart DiscountEnd Discount  \n",
       "2       NaN     in stock                                NaN  "
      ]
     },
     "execution_count": 114,
     "metadata": {},
     "output_type": "execute_result"
    }
   ],
   "source": [
    "products_available.head(1)"
   ]
  },
  {
   "cell_type": "code",
   "execution_count": 132,
   "id": "6dcb9ea9",
   "metadata": {},
   "outputs": [
    {
     "data": {
      "text/plain": [
       "array(['Kert/Kerti szerszám/Lombseprű, Állítható, műanyag, 6 fokozatú lombseprű, nyélhossz mérete: 130cm, a seprű szélessége 35-52cm között állítható.'],\n",
       "      dtype=object)"
      ]
     },
     "execution_count": 132,
     "metadata": {},
     "output_type": "execute_result"
    }
   ],
   "source": [
    "products_available['combined'] = products_available.apply(lambda row: f\"{row['Category']}, {row['Description']}\", axis=1)\n",
    "products_available.head(1)[\"combined\"].values"
   ]
  },
  {
   "cell_type": "code",
   "execution_count": 153,
   "id": "f79134c5",
   "metadata": {},
   "outputs": [
    {
     "data": {
      "text/plain": [
       "4402    Fürdőszoba/Fürdőszoba felszerelés/Zuhanygarnit...\n",
       "2257    Fürdőszoba/Fürdőszoba felszerelés/Zuhanyfej, <...\n",
       "4213    Fürdőszoba/Fürdőszoba felszerelés/Zuhanyfej, <...\n",
       "234     Fürdőszoba/Fürdőszoba felszerelés/Zuhanyfej, <...\n",
       "4301    Fürdőszoba/Fürdőszoba felszerelés/Zuhanygarnit...\n",
       "                              ...                        \n",
       "5080    Lakberendezés, háztartás/Függöny, karnis, árny...\n",
       "935     Lakberendezés, háztartás/Függöny, karnis, árny...\n",
       "806     Lakberendezés, háztartás/Világítás, lámpa/Kült...\n",
       "2204    Műszaki, Gép, Szerszám/Elektromos szerszámgép/...\n",
       "3013    Műszaki, Gép, Szerszám/Mérőeszköz/Környezetmér...\n",
       "Name: combined, Length: 1583, dtype: object"
      ]
     },
     "execution_count": 153,
     "metadata": {},
     "output_type": "execute_result"
    }
   ],
   "source": [
    "products_available.combined"
   ]
  },
  {
   "cell_type": "code",
   "execution_count": 133,
   "id": "5a6d7983",
   "metadata": {},
   "outputs": [
    {
     "data": {
      "text/html": [
       "<div>\n",
       "<style scoped>\n",
       "    .dataframe tbody tr th:only-of-type {\n",
       "        vertical-align: middle;\n",
       "    }\n",
       "\n",
       "    .dataframe tbody tr th {\n",
       "        vertical-align: top;\n",
       "    }\n",
       "\n",
       "    .dataframe thead th {\n",
       "        text-align: right;\n",
       "    }\n",
       "</style>\n",
       "<table border=\"1\" class=\"dataframe\">\n",
       "  <thead>\n",
       "    <tr style=\"text-align: right;\">\n",
       "      <th></th>\n",
       "      <th>DisplayText</th>\n",
       "      <th>Url</th>\n",
       "      <th>ImageUrl</th>\n",
       "      <th>PopularityScore</th>\n",
       "      <th>Category</th>\n",
       "      <th>Price</th>\n",
       "      <th>Identifier</th>\n",
       "      <th>Synonyms</th>\n",
       "      <th>Description</th>\n",
       "      <th>Brand</th>\n",
       "      <th>Attributes</th>\n",
       "      <th>UnitPrice</th>\n",
       "      <th>OldPrice</th>\n",
       "      <th>Availability</th>\n",
       "      <th>DiscountStart</th>\n",
       "      <th>DiscountEnd</th>\n",
       "      <th>Discount</th>\n",
       "      <th>combined</th>\n",
       "      <th>text_embedding</th>\n",
       "      <th>search_products</th>\n",
       "    </tr>\n",
       "  </thead>\n",
       "  <tbody>\n",
       "    <tr>\n",
       "      <th>841</th>\n",
       "      <td>GARDENA ÁLLÍTHATÓ LOMBSEPRŰ 6 FOKOZATÚ MŰANYAG</td>\n",
       "      <td>https://www.praktiker.hu/kert/kerti-szerszam/l...</td>\n",
       "      <td>https://webimg.praktiker.hu/_upload/images/pra...</td>\n",
       "      <td>100</td>\n",
       "      <td>Kert/Kerti szerszám/Lombseprű</td>\n",
       "      <td>9499.0</td>\n",
       "      <td>301435</td>\n",
       "      <td>10850;ALLITHATO LOMBSEPRU 6 FOKOZATU MUANYAG</td>\n",
       "      <td>Állítható, műanyag, 6 fokozatú lombseprű, nyél...</td>\n",
       "      <td>Gardena</td>\n",
       "      <td>{'Szallithato': True, 'Tartosan_alacsony_ar': ...</td>\n",
       "      <td>9.499,00 Ft / darab</td>\n",
       "      <td>8549.0</td>\n",
       "      <td>in stock</td>\n",
       "      <td>2023-05-11</td>\n",
       "      <td>2023-05-22</td>\n",
       "      <td>NaN</td>\n",
       "      <td>Kert/Kerti szerszám/Lombseprű, Állítható, műan...</td>\n",
       "      <td>[-0.010269951075315475, 0.009866831824183464, ...</td>\n",
       "      <td>0.839417</td>\n",
       "    </tr>\n",
       "  </tbody>\n",
       "</table>\n",
       "</div>"
      ],
      "text/plain": [
       "                                        DisplayText  \\\n",
       "841  GARDENA ÁLLÍTHATÓ LOMBSEPRŰ 6 FOKOZATÚ MŰANYAG   \n",
       "\n",
       "                                                   Url  \\\n",
       "841  https://www.praktiker.hu/kert/kerti-szerszam/l...   \n",
       "\n",
       "                                              ImageUrl  PopularityScore  \\\n",
       "841  https://webimg.praktiker.hu/_upload/images/pra...              100   \n",
       "\n",
       "                          Category   Price  Identifier  \\\n",
       "841  Kert/Kerti szerszám/Lombseprű  9499.0      301435   \n",
       "\n",
       "                                         Synonyms  \\\n",
       "841  10850;ALLITHATO LOMBSEPRU 6 FOKOZATU MUANYAG   \n",
       "\n",
       "                                           Description    Brand  \\\n",
       "841  Állítható, műanyag, 6 fokozatú lombseprű, nyél...  Gardena   \n",
       "\n",
       "                                            Attributes            UnitPrice  \\\n",
       "841  {'Szallithato': True, 'Tartosan_alacsony_ar': ...  9.499,00 Ft / darab   \n",
       "\n",
       "     OldPrice Availability DiscountStart DiscountEnd Discount  \\\n",
       "841    8549.0     in stock    2023-05-11  2023-05-22      NaN   \n",
       "\n",
       "                                              combined  \\\n",
       "841  Kert/Kerti szerszám/Lombseprű, Állítható, műan...   \n",
       "\n",
       "                                        text_embedding  search_products  \n",
       "841  [-0.010269951075315475, 0.009866831824183464, ...         0.839417  "
      ]
     },
     "execution_count": 133,
     "metadata": {},
     "output_type": "execute_result"
    }
   ],
   "source": [
    "products_available['text_embedding'] = products_available.combined.apply(lambda x: get_embedding(x, engine='text-embedding-ada-002'))\n",
    "products_available.head(1)"
   ]
  },
  {
   "cell_type": "code",
   "execution_count": 248,
   "id": "9f00de23",
   "metadata": {},
   "outputs": [],
   "source": [
    "customer_input = \"Tudnál virágládát ajánlani nekem?\"\n",
    "response = openai.Embedding.create(\n",
    "    input=translate(customer_input),\n",
    "    engine=\"text-embedding-ada-002\"\n",
    ")\n",
    "embeddings_customer_question = response['data'][0]['embedding']"
   ]
  },
  {
   "cell_type": "code",
   "execution_count": 249,
   "id": "9fd0d5bf",
   "metadata": {},
   "outputs": [
    {
     "data": {
      "text/plain": [
       "'Can you recommend me a flower box?'"
      ]
     },
     "execution_count": 249,
     "metadata": {},
     "output_type": "execute_result"
    }
   ],
   "source": [
    "translate(customer_input)"
   ]
  },
  {
   "cell_type": "code",
   "execution_count": 250,
   "id": "301a5fd6",
   "metadata": {},
   "outputs": [
    {
     "data": {
      "text/html": [
       "<div>\n",
       "<style scoped>\n",
       "    .dataframe tbody tr th:only-of-type {\n",
       "        vertical-align: middle;\n",
       "    }\n",
       "\n",
       "    .dataframe tbody tr th {\n",
       "        vertical-align: top;\n",
       "    }\n",
       "\n",
       "    .dataframe thead th {\n",
       "        text-align: right;\n",
       "    }\n",
       "</style>\n",
       "<table border=\"1\" class=\"dataframe\">\n",
       "  <thead>\n",
       "    <tr style=\"text-align: right;\">\n",
       "      <th></th>\n",
       "      <th>DisplayText</th>\n",
       "      <th>Url</th>\n",
       "      <th>ImageUrl</th>\n",
       "      <th>PopularityScore</th>\n",
       "      <th>Category</th>\n",
       "      <th>Price</th>\n",
       "      <th>Identifier</th>\n",
       "      <th>Synonyms</th>\n",
       "      <th>Description</th>\n",
       "      <th>Brand</th>\n",
       "      <th>Attributes</th>\n",
       "      <th>UnitPrice</th>\n",
       "      <th>OldPrice</th>\n",
       "      <th>Availability</th>\n",
       "      <th>DiscountStart</th>\n",
       "      <th>DiscountEnd</th>\n",
       "      <th>Discount</th>\n",
       "      <th>combined</th>\n",
       "      <th>text_embedding</th>\n",
       "      <th>search_products</th>\n",
       "    </tr>\n",
       "  </thead>\n",
       "  <tbody>\n",
       "    <tr>\n",
       "      <th>2305</th>\n",
       "      <td>KERTIMAG BALKON VIRÁG CSÜNGŐ LOBÉLIA KÉK</td>\n",
       "      <td>https://www.praktiker.hu/kert/noveny/novenymag...</td>\n",
       "      <td>https://webimg.praktiker.hu/_upload/images/pra...</td>\n",
       "      <td>100</td>\n",
       "      <td>Kert/Növény/Növénymag</td>\n",
       "      <td>319.0</td>\n",
       "      <td>402142</td>\n",
       "      <td>None</td>\n",
       "      <td>Balkonládák, függőkosarak beültetésére ajánlot...</td>\n",
       "      <td>Budapesti kertimag</td>\n",
       "      <td>{'Szallithato': True, 'Tartosan_alacsony_ar': ...</td>\n",
       "      <td>319,00 Ft / csomag</td>\n",
       "      <td>NaN</td>\n",
       "      <td>in stock</td>\n",
       "      <td></td>\n",
       "      <td></td>\n",
       "      <td>NaN</td>\n",
       "      <td>Kert/Növény/Növénymag, Balkonládák, függőkosar...</td>\n",
       "      <td>[-0.005311526823788881, -0.018064450472593307,...</td>\n",
       "      <td>0.788165</td>\n",
       "    </tr>\n",
       "    <tr>\n",
       "      <th>4279</th>\n",
       "      <td>KERTIMAG VÁGOTT VIRÁG ÉVELŐ SZARKALÁB SZÍNKEVERÉK</td>\n",
       "      <td>https://www.praktiker.hu/kert/noveny/novenymag...</td>\n",
       "      <td>https://webimg.praktiker.hu/_upload/images/pra...</td>\n",
       "      <td>100</td>\n",
       "      <td>Kert/Növény/Növénymag</td>\n",
       "      <td>319.0</td>\n",
       "      <td>402402</td>\n",
       "      <td>None</td>\n",
       "      <td>Évelőágyak díszítésére ajánlott. Vágott virágk...</td>\n",
       "      <td>Budapesti kertimag</td>\n",
       "      <td>{'Szallithato': True, 'Tartosan_alacsony_ar': ...</td>\n",
       "      <td>319,00 Ft / csomag</td>\n",
       "      <td>NaN</td>\n",
       "      <td>in stock</td>\n",
       "      <td></td>\n",
       "      <td></td>\n",
       "      <td>NaN</td>\n",
       "      <td>Kert/Növény/Növénymag, Évelőágyak díszítésére ...</td>\n",
       "      <td>[-0.01398422196507454, -0.01633646711707115, 0...</td>\n",
       "      <td>0.781098</td>\n",
       "    </tr>\n",
       "    <tr>\n",
       "      <th>8</th>\n",
       "      <td>JKH BALKONLÁDATARTÓ VAS ZÖLD 2DB-OS 14 X 18 CM</td>\n",
       "      <td>https://www.praktiker.hu/kert/novenyapolas/vir...</td>\n",
       "      <td>https://webimg.praktiker.hu/_upload/images/pra...</td>\n",
       "      <td>100</td>\n",
       "      <td>Kert/Növényápolás/Virágcserép</td>\n",
       "      <td>2399.0</td>\n",
       "      <td>291098</td>\n",
       "      <td>None</td>\n",
       "      <td>&lt;p&gt;Zöld színű, 14x18 cm-es balkonládatartó vas...</td>\n",
       "      <td>JKH</td>\n",
       "      <td>{'Szallithato': True, 'Tartosan_alacsony_ar': ...</td>\n",
       "      <td>1.199,50 Ft / darab</td>\n",
       "      <td>NaN</td>\n",
       "      <td>in stock</td>\n",
       "      <td></td>\n",
       "      <td></td>\n",
       "      <td>NaN</td>\n",
       "      <td>Kert/Növényápolás/Virágcserép, &lt;p&gt;Zöld színű, ...</td>\n",
       "      <td>[-0.003715106286108494, -0.0015907941851764917...</td>\n",
       "      <td>0.779099</td>\n",
       "    </tr>\n",
       "  </tbody>\n",
       "</table>\n",
       "</div>"
      ],
      "text/plain": [
       "                                            DisplayText  \\\n",
       "2305           KERTIMAG BALKON VIRÁG CSÜNGŐ LOBÉLIA KÉK   \n",
       "4279  KERTIMAG VÁGOTT VIRÁG ÉVELŐ SZARKALÁB SZÍNKEVERÉK   \n",
       "8        JKH BALKONLÁDATARTÓ VAS ZÖLD 2DB-OS 14 X 18 CM   \n",
       "\n",
       "                                                    Url  \\\n",
       "2305  https://www.praktiker.hu/kert/noveny/novenymag...   \n",
       "4279  https://www.praktiker.hu/kert/noveny/novenymag...   \n",
       "8     https://www.praktiker.hu/kert/novenyapolas/vir...   \n",
       "\n",
       "                                               ImageUrl  PopularityScore  \\\n",
       "2305  https://webimg.praktiker.hu/_upload/images/pra...              100   \n",
       "4279  https://webimg.praktiker.hu/_upload/images/pra...              100   \n",
       "8     https://webimg.praktiker.hu/_upload/images/pra...              100   \n",
       "\n",
       "                           Category   Price  Identifier Synonyms  \\\n",
       "2305          Kert/Növény/Növénymag   319.0      402142     None   \n",
       "4279          Kert/Növény/Növénymag   319.0      402402     None   \n",
       "8     Kert/Növényápolás/Virágcserép  2399.0      291098     None   \n",
       "\n",
       "                                            Description               Brand  \\\n",
       "2305  Balkonládák, függőkosarak beültetésére ajánlot...  Budapesti kertimag   \n",
       "4279  Évelőágyak díszítésére ajánlott. Vágott virágk...  Budapesti kertimag   \n",
       "8     <p>Zöld színű, 14x18 cm-es balkonládatartó vas...                 JKH   \n",
       "\n",
       "                                             Attributes            UnitPrice  \\\n",
       "2305  {'Szallithato': True, 'Tartosan_alacsony_ar': ...   319,00 Ft / csomag   \n",
       "4279  {'Szallithato': True, 'Tartosan_alacsony_ar': ...   319,00 Ft / csomag   \n",
       "8     {'Szallithato': True, 'Tartosan_alacsony_ar': ...  1.199,50 Ft / darab   \n",
       "\n",
       "      OldPrice Availability DiscountStart DiscountEnd Discount  \\\n",
       "2305       NaN     in stock                                NaN   \n",
       "4279       NaN     in stock                                NaN   \n",
       "8          NaN     in stock                                NaN   \n",
       "\n",
       "                                               combined  \\\n",
       "2305  Kert/Növény/Növénymag, Balkonládák, függőkosar...   \n",
       "4279  Kert/Növény/Növénymag, Évelőágyak díszítésére ...   \n",
       "8     Kert/Növényápolás/Virágcserép, <p>Zöld színű, ...   \n",
       "\n",
       "                                         text_embedding  search_products  \n",
       "2305  [-0.005311526823788881, -0.018064450472593307,...         0.788165  \n",
       "4279  [-0.01398422196507454, -0.01633646711707115, 0...         0.781098  \n",
       "8     [-0.003715106286108494, -0.0015907941851764917...         0.779099  "
      ]
     },
     "execution_count": 250,
     "metadata": {},
     "output_type": "execute_result"
    }
   ],
   "source": [
    "products_available['search_products'] = products_available.text_embedding.apply(lambda x: cosine_similarity(x, embeddings_customer_question))\n",
    "products_available = products_available.sort_values('search_products', ascending=False)\n",
    "top_3_products_df = products_available.head(3)\n",
    "top_3_products_df"
   ]
  },
  {
   "cell_type": "code",
   "execution_count": 246,
   "id": "144af7e6",
   "metadata": {},
   "outputs": [
    {
     "data": {
      "text/plain": [
       "[{'role': 'system',\n",
       "  'content': 'Egy chatbot vagy, aki egy barkácsáruház termékeivel kacsolatban válaszolsz kérdésekre és ajánlásokat adsz.'},\n",
       " {'role': 'user', 'content': 'Can you recommend me a shower cabin?'},\n",
       " {'role': 'assistant', 'content': 'Ezt a 3 terméket találtam:'},\n",
       " {'role': 'assistant',\n",
       "  'content': 'Fürdőszoba/Szaniter/Zuhanykabin, Hidromasszázs zuhanykabin mérete: <span>90X90X215 cm.</span> Hátfal: fekete biztonsági üveg. 2 tolóajtóval 4mm víztiszta biztonsági üvegből. Görgők: felül dupla, alul szimpla, kinyomós. 2 fix üveg 4mm víztiszta biztonsági üvegből .Profilok: ezüst, alumínium, 4cm. Középmély akril tálca integrált ülőkével. 6 fúvókával. Csaptelep: kerámiabetétes keverőcsap és funkcióváltó. Zuhany: kézi zuhany, esőztető. Világítás: tető és háttérvilágítás a panelen. Szellőztetés: ventilátoros. Vezérlőpanel: elektronikus. Extra: hangszóró és rádió. Tartozék: Piperepolc.'},\n",
       " {'role': 'assistant',\n",
       "  'content': 'Fürdőszoba/Szaniter/Zuhanykabin, <p><span style=\"font-size: 13px;\">Negyedköríves hidromasszázs zuhanykabin, elektronika nélkül, 4 mm vastag, víztiszta biztonsági üveggel és ajtókkal. Fekete színű üveg hátfallal. Mérete: 90x90x222 cm. Jellemzői: Matt króm, alumínium ívek és profilok, matt króm funkciós panel. 4 db hidromasszázs fúvóka, kézi zuhany, felső esőztető zuhany. Kerámia betétes keverőszelep és funkció váltó. Mágneses ajtózár. Görgős ajtónyitás. Fehér színű, alacsony, akril zuhanytálcával értékesítjük.&nbsp;</span><br></p>'},\n",
       " {'role': 'assistant',\n",
       "  'content': 'Fürdőszoba/Szaniter/Zuhanykabin, <p>Szögletes zuhanykabin, 5mm-es, csíkos biztonsági üvegek és ajtók, fehér, szinterezett alumínium profilok, króm fogantyúk.<strong> Zuhanytálca nélkül értékesítjük!&nbsp;</strong></p>'},\n",
       " {'role': 'assistant',\n",
       "  'content': 'Itt van az összegzett ajánlásom a termékekről és hogy miért megfelelő:'}]"
      ]
     },
     "execution_count": 246,
     "metadata": {},
     "output_type": "execute_result"
    }
   ],
   "source": [
    "# message_objects = []\n",
    "# message_objects.append({\"role\":\"system\", \"content\":\"You're a chatbot helping customers with DIY related questions and helping them with product recommendations\"})\n",
    "# message_objects.append({\"role\":\"user\", \"content\": customer_input})\n",
    "# message_objects.append({\"role\":\"user\", \"content\": f\"Please give me a detailed explanation of your recommendations\"})\n",
    "# message_objects.append({\"role\":\"user\", \"content\": \"Please be friendly and talk to me like a person, don't just give me a list of recommendations\"})\n",
    "# products_list = []\n",
    "\n",
    "# for index, row in top_3_products_df.iterrows():\n",
    "#     brand_dict = {'role': \"assistant\", \"content\": f\"{row['combined']}\"}\n",
    "#     products_list.append(brand_dict)\n",
    "# products_list\n",
    "# message_objects.append({\"role\": \"assistant\", \"content\": f\"I found these 3 products I would recommend\"})\n",
    "# message_objects.extend(products_list)\n",
    "# message_objects.append({\"role\": \"assistant\", \"content\":\"Here's my summarized recommendation of products, and why it would suit you:\"})\n",
    "# message_objects\n",
    "\n",
    "message_objects = []\n",
    "message_objects.append({\"role\":\"system\", \"content\":\"Egy chatbot vagy, aki egy barkácsáruház termékeivel kacsolatban válaszolsz kérdésekre és ajánlásokat adsz.\"})\n",
    "message_objects.append({\"role\":\"user\", \"content\": translate(customer_input)})\n",
    "products_list = []\n",
    "\n",
    "for index, row in top_3_products_df.iterrows():\n",
    "    brand_dict = {'role': \"assistant\", \"content\": f\"{row['combined']}\"}\n",
    "    products_list.append(brand_dict)\n",
    "products_list\n",
    "message_objects.append({\"role\": \"assistant\", \"content\": f\"Ezt a 3 terméket találtam:\"})\n",
    "message_objects.extend(products_list)\n",
    "message_objects.append({\"role\": \"assistant\", \"content\":\"Itt van az összegzett ajánlásom a termékekről és hogy miért megfelelő:\"})\n",
    "message_objects\n"
   ]
  },
  {
   "cell_type": "code",
   "execution_count": 247,
   "id": "258af84a",
   "metadata": {},
   "outputs": [
    {
     "name": "stdout",
     "output_type": "stream",
     "text": [
      "Az általad kérdezett zuhanykabinok közül az első két termék alkalmas lehet az igényeidhez. Mindkét zuhanykabin rendelkezik hidromasszázs funkcióval és biztonsági üvegből készült ajtókkal, melyek számos előnnyel járnak a hagyományos üveggel szemben. Az első zuhanykabin esetében a fekete hátfal és a világítás is része az ajánlatnak, valamint a vásárlók értékelik az elektronikus vezérlőpanel, a hangszóró és a rádió meglétét. Azonban, ha inkább az egyszerűbb és elegáns megjelenés a cél, akkor a második zuhanykabin lehet a jobb választás, mivel szögletes és akril zuhanytálcát is tartalmaz. Végül azonban az dönti el, hogy az egyszerűséget vagy a nagyobb funkciókat keresed-e és milyen stílusú zuhanykabint szeretnél.\n"
     ]
    }
   ],
   "source": [
    "completion = openai.ChatCompletion.create(\n",
    "  engine=\"GPT35\",\n",
    "  messages=message_objects\n",
    ")\n",
    "message_objects.append({\"role\": \"assistant\", \"content\": completion.choices[0].message['content']})\n",
    "print(completion.choices[0].message['content'])"
   ]
  },
  {
   "cell_type": "code",
   "execution_count": null,
   "id": "4200d844",
   "metadata": {},
   "outputs": [],
   "source": []
  }
 ],
 "metadata": {
  "kernelspec": {
   "display_name": "Python 3 (ipykernel)",
   "language": "python",
   "name": "python3"
  },
  "language_info": {
   "codemirror_mode": {
    "name": "ipython",
    "version": 3
   },
   "file_extension": ".py",
   "mimetype": "text/x-python",
   "name": "python",
   "nbconvert_exporter": "python",
   "pygments_lexer": "ipython3",
   "version": "3.9.16"
  }
 },
 "nbformat": 4,
 "nbformat_minor": 5
}
